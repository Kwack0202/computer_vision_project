{
 "cells": [
  {
   "cell_type": "code",
   "execution_count": 1,
   "metadata": {},
   "outputs": [
    {
     "name": "stdout",
     "output_type": "stream",
     "text": [
      "env: SM_FRAMEWORK=tf.keras\n"
     ]
    }
   ],
   "source": [
    "%env SM_FRAMEWORK=tf.keras\n",
    "\n",
    "# 패키지 불러오기\n",
    "import os\n",
    "import matplotlib.pyplot as plt \n",
    "import matplotlib.image as mpimg \n",
    "import numpy as np \n",
    "import pandas as pd\n",
    "import random\n",
    "from tqdm import tqdm\n",
    "\n",
    "from sklearn.model_selection import train_test_split\n",
    "\n",
    "from PIL import Image\n",
    "\n",
    "import tensorflow as tf\n",
    "from tensorflow import keras\n",
    "from tensorflow.keras import layers\n",
    "from tensorflow.keras.callbacks import ReduceLROnPlateau\n",
    "from tensorflow.keras.optimizers import *\n",
    "from tensorflow.keras.callbacks import ModelCheckpoint, LearningRateScheduler\n",
    "from tensorflow.keras.preprocessing.image import ImageDataGenerator, array_to_img, img_to_array, load_img\n",
    "from tensorflow.keras import backend as keras\n",
    "\n",
    "from glob import glob\n",
    "\n",
    "import tensorflow_addons as tfa\n",
    "\n",
    "from scipy import ndimage\n",
    "\n",
    "import cv2\n",
    "import cv2 as cv2\n",
    "import multiprocessing\n",
    "import os"
   ]
  },
  {
   "attachments": {},
   "cell_type": "markdown",
   "metadata": {},
   "source": [
    "### 2D_JSON 파일 압축 풀기"
   ]
  },
  {
   "cell_type": "code",
   "execution_count": 2,
   "metadata": {},
   "outputs": [],
   "source": [
    "import zipfile\n",
    "\n",
    "def extract_images_from_zip(zip_path, folder_name):\n",
    "    with zipfile.ZipFile(zip_path, 'r') as zip_file:\n",
    "        file_list = zip_file.namelist()\n",
    "        for file_name in tqdm(file_list):\n",
    "            if folder_name in file_name:\n",
    "                zip_file.extract(file_name, path='./')\n",
    "                # print(f\"Extracted {file_name}\")"
   ]
  },
  {
   "cell_type": "code",
   "execution_count": 3,
   "metadata": {},
   "outputs": [
    {
     "data": {
      "text/plain": [
       "\" # 라벨링 데이터 가져오기(Json 파일)\\nzip_path_list = ['./01.데이터/2.Validation/라벨링데이터/VL1.온전.zip',\\n                 './01.데이터/2.Validation/라벨링데이터/VL2.비온전(물리).zip',\\n                 './01.데이터/2.Validation/라벨링데이터/VL3.비온전(환경).zip',\\n                 './01.데이터/2.Validation/라벨링데이터/VL4.비온전(복합).zip'\\n                 ]\\n\\nfor zip_path in zip_path_list:\\n    extract_images_from_zip(zip_path, '2D_JSON') \""
      ]
     },
     "execution_count": 3,
     "metadata": {},
     "output_type": "execute_result"
    }
   ],
   "source": [
    "''' # 라벨링 데이터 가져오기(Json 파일)\n",
    "zip_path_list = ['./01.데이터/2.Validation/라벨링데이터/VL1.온전.zip',\n",
    "                 './01.데이터/2.Validation/라벨링데이터/VL2.비온전(물리).zip',\n",
    "                 './01.데이터/2.Validation/라벨링데이터/VL3.비온전(환경).zip',\n",
    "                 './01.데이터/2.Validation/라벨링데이터/VL4.비온전(복합).zip'\n",
    "                 ]\n",
    "\n",
    "for zip_path in zip_path_list:\n",
    "    extract_images_from_zip(zip_path, '2D_JSON') '''"
   ]
  },
  {
   "cell_type": "code",
   "execution_count": 4,
   "metadata": {},
   "outputs": [],
   "source": [
    "import os\n",
    "import shutil\n",
    "from sklearn.model_selection import train_test_split\n",
    "import json\n",
    "\n",
    "# 이미지 파일 위치한 폴더들과 어노테이션 파일이 위치한 폴더들의 경로\n",
    "image_folders = ['./IMAGE_all/']\n",
    "\n",
    "annotation_folders = ['./2D_JSON/']"
   ]
  },
  {
   "attachments": {},
   "cell_type": "markdown",
   "metadata": {},
   "source": [
    "### Annotation: B-box"
   ]
  },
  {
   "cell_type": "code",
   "execution_count": 5,
   "metadata": {},
   "outputs": [],
   "source": [
    "#원본 이미지 파일 정규화 진행\n",
    "#어노테이션 파일에서 'images' 정보 중 width, height 정보 이용\n",
    "\n",
    "def normalize_bbox(bbox, image_width, image_height):\n",
    "    x_min = bbox[0]\n",
    "    y_min = bbox[1]\n",
    "    width = bbox[2]\n",
    "    height = bbox[3]\n",
    "\n",
    "    x_center = (x_min + width / 2) / image_width\n",
    "    y_center = (y_min + height / 2) / image_height\n",
    "    norm_width = width / image_width\n",
    "    norm_height = height / image_height\n",
    "\n",
    "    return x_center, y_center, norm_width, norm_height"
   ]
  },
  {
   "cell_type": "code",
   "execution_count": 6,
   "metadata": {},
   "outputs": [
    {
     "data": {
      "text/plain": [
       "\" # (각각의 폴더에서) 이미지와 각 이미지에 대한 2D 어노테이션 파일\\n# YOLOv8 detection 모델에 적용할 수 있는 형태로 저장\\n\\n# 이미지 폴더와 어노테이션 폴더를 반복하여 처리\\nfor image_folder, annotation_folder in zip(image_folders, annotation_folders):\\n    # 이미지 폴더 내의 파일 목록을 가져옴\\n    image_files = os.listdir(image_folder)\\n\\n    # 이미지 파일과 어노테이션 파일을 한 쌍씩 처리\\n    for image_file in tqdm(image_files):\\n        # 이미지 파일의 경로\\n        image_path = os.path.join(image_folder, image_file)\\n\\n        # 어노테이션 파일의 경로\\n        annotation_file = os.path.splitext(image_file)[0] + '.json'\\n        annotation_path = os.path.join(annotation_folder, annotation_file)\\n\\n        # 어노테이션 파일을 열어 bbox 정보를 추출하여 텍스트 파일로 저장\\n        with open(annotation_path, 'r') as f:\\n            annotation_data = json.load(f)\\n\\n            # 이미지 정보와 어노테이션 정보에서 필요한 값 추출\\n            image_info = annotation_data['images'][0]\\n            annotations = annotation_data['annotations']\\n\\n            # 이미지 정보에서 파일명 추출\\n            image_filename = image_info['filename']\\n            image_width = image_info['width']\\n            image_height = image_info['height']\\n\\n            # bbox 값이 있는 어노테이션만 처리하여 텍스트 파일로 저장 (bbox 값 가지지 않는 이미지 존재하기 때문)\\n            annotated_annotations = [annotation for annotation in annotations if 'bbox' in annotation and 'category_id' in annotation]\\n\\n            if len(annotated_annotations) > 0:\\n                # 텍스트 파일 경로\\n                txt_file = os.path.splitext(image_file)[0] + '.txt'\\n                txt_path = os.path.join(annotation_folder, txt_file) # annotation(bbox) .txt 저장 경로\\n\\n                with open(txt_path, 'w') as txt_f:\\n                    for annotation in annotated_annotations:\\n                        bbox = annotation['bbox']\\n                        category_id = annotation['category_id']\\n\\n                        x_center, y_center, norm_width, norm_height = normalize_bbox(bbox, image_width, image_height)\\n                        class_index = category_id - 381  # class 0부터\\n                        line = f'{class_index} {x_center} {y_center} {norm_width} {norm_height}\\n'\\n                        txt_f.write(line)\\n            else:\\n                # bbox 값이 없는 어노테이션 -> 건너뛰고 처리하지 않음\\n                continue \""
      ]
     },
     "execution_count": 6,
     "metadata": {},
     "output_type": "execute_result"
    }
   ],
   "source": [
    "# (각각의 폴더에서) 이미지와 각 이미지에 대한 2D 어노테이션 파일\n",
    "# YOLOv8 detection 모델에 적용할 수 있는 형태로 저장\n",
    "\n",
    "# 이미지 폴더와 어노테이션 폴더를 반복하여 처리\n",
    "for image_folder, annotation_folder in zip(image_folders, annotation_folders):\n",
    "    # 이미지 폴더 내의 파일 목록을 가져옴\n",
    "    image_files = os.listdir(image_folder)\n",
    "\n",
    "    # 이미지 파일과 어노테이션 파일을 한 쌍씩 처리\n",
    "    for image_file in tqdm(image_files):\n",
    "        # 이미지 파일의 경로\n",
    "        image_path = os.path.join(image_folder, image_file)\n",
    "\n",
    "        # 어노테이션 파일의 경로\n",
    "        annotation_file = os.path.splitext(image_file)[0] + '.json'\n",
    "        annotation_path = os.path.join(annotation_folder, annotation_file)\n",
    "\n",
    "        # 어노테이션 파일을 열어 bbox 정보를 추출하여 텍스트 파일로 저장\n",
    "        with open(annotation_path, 'r') as f:\n",
    "            annotation_data = json.load(f)\n",
    "\n",
    "            # 이미지 정보와 어노테이션 정보에서 필요한 값 추출\n",
    "            image_info = annotation_data['images'][0]\n",
    "            annotations = annotation_data['annotations']\n",
    "\n",
    "            # 이미지 정보에서 파일명 추출\n",
    "            image_filename = image_info['filename']\n",
    "            image_width = image_info['width']\n",
    "            image_height = image_info['height']\n",
    "\n",
    "            # bbox 값이 있는 어노테이션만 처리하여 텍스트 파일로 저장 (bbox 값 가지지 않는 이미지 존재하기 때문)\n",
    "            annotated_annotations = [annotation for annotation in annotations if 'bbox' in annotation and 'category_id' in annotation]\n",
    "\n",
    "            if len(annotated_annotations) > 0:\n",
    "                # 텍스트 파일 경로\n",
    "                txt_file = os.path.splitext(image_file)[0] + '.txt'\n",
    "                txt_path = os.path.join(annotation_folder, txt_file) # annotation(bbox) .txt 저장 경로\n",
    "\n",
    "                with open(txt_path, 'w') as txt_f:\n",
    "                    for annotation in annotated_annotations:\n",
    "                        bbox = annotation['bbox']\n",
    "                        category_id = annotation['category_id']\n",
    "\n",
    "                        x_center, y_center, norm_width, norm_height = normalize_bbox(bbox, image_width, image_height)\n",
    "                        class_index = category_id - 381  # class 0부터\n",
    "                        line = f'{class_index} {x_center} {y_center} {norm_width} {norm_height}\\n'\n",
    "                        txt_f.write(line)\n",
    "            else:\n",
    "                # bbox 값이 없는 어노테이션 -> 건너뛰고 처리하지 않음\n",
    "                continue"
   ]
  },
  {
   "attachments": {},
   "cell_type": "markdown",
   "metadata": {},
   "source": [
    "### train"
   ]
  },
  {
   "cell_type": "code",
   "execution_count": 7,
   "metadata": {},
   "outputs": [
    {
     "data": {
      "text/plain": [
       "\" image_directory = './train_YOLOv8/'\\nlabel_directory = './2D_JSON/'\\n\\n# 이미지 디렉토리에서 파일 목록 가져오기\\nimage_files = os.listdir(image_directory)\\n\\nfor image_file in image_files:\\n    # 이미지 파일 이름에서 확장자 제거\\n    image_name = os.path.splitext(image_file)[0]\\n    \\n    # 텍스트 파일 경로 생성\\n    label_file_path = os.path.join(label_directory, image_name + '.txt')\\n    \\n    # 텍스트 파일이 존재하면 복사\\n    if os.path.isfile(label_file_path):\\n        shutil.copy(label_file_path, image_directory) \""
      ]
     },
     "execution_count": 7,
     "metadata": {},
     "output_type": "execute_result"
    }
   ],
   "source": [
    "''' image_directory = './train_YOLOv8/'\n",
    "label_directory = './2D_JSON/'\n",
    "\n",
    "# 이미지 디렉토리에서 파일 목록 가져오기\n",
    "image_files = os.listdir(image_directory)\n",
    "\n",
    "for image_file in image_files:\n",
    "    # 이미지 파일 이름에서 확장자 제거\n",
    "    image_name = os.path.splitext(image_file)[0]\n",
    "    \n",
    "    # 텍스트 파일 경로 생성\n",
    "    label_file_path = os.path.join(label_directory, image_name + '.txt')\n",
    "    \n",
    "    # 텍스트 파일이 존재하면 복사\n",
    "    if os.path.isfile(label_file_path):\n",
    "        shutil.copy(label_file_path, image_directory) '''"
   ]
  },
  {
   "attachments": {},
   "cell_type": "markdown",
   "metadata": {},
   "source": [
    "### Validation"
   ]
  },
  {
   "cell_type": "code",
   "execution_count": 8,
   "metadata": {},
   "outputs": [
    {
     "data": {
      "text/plain": [
       "\" image_directory = './validation_YOLOv8/'\\nlabel_directory = './2D_JSON/'\\n\\n# 이미지 디렉토리에서 파일 목록 가져오기\\nimage_files = os.listdir(image_directory)\\n\\nfor image_file in image_files:\\n    # 이미지 파일 이름에서 확장자 제거\\n    image_name = os.path.splitext(image_file)[0]\\n    \\n    # 텍스트 파일 경로 생성\\n    label_file_path = os.path.join(label_directory, image_name + '.txt')\\n    \\n    # 텍스트 파일이 존재하면 복사\\n    if os.path.isfile(label_file_path):\\n        shutil.copy(label_file_path, image_directory) \""
      ]
     },
     "execution_count": 8,
     "metadata": {},
     "output_type": "execute_result"
    }
   ],
   "source": [
    "''' image_directory = './validation_YOLOv8/'\n",
    "label_directory = './2D_JSON/'\n",
    "\n",
    "# 이미지 디렉토리에서 파일 목록 가져오기\n",
    "image_files = os.listdir(image_directory)\n",
    "\n",
    "for image_file in image_files:\n",
    "    # 이미지 파일 이름에서 확장자 제거\n",
    "    image_name = os.path.splitext(image_file)[0]\n",
    "    \n",
    "    # 텍스트 파일 경로 생성\n",
    "    label_file_path = os.path.join(label_directory, image_name + '.txt')\n",
    "    \n",
    "    # 텍스트 파일이 존재하면 복사\n",
    "    if os.path.isfile(label_file_path):\n",
    "        shutil.copy(label_file_path, image_directory) '''"
   ]
  },
  {
   "attachments": {},
   "cell_type": "markdown",
   "metadata": {},
   "source": [
    "### Test"
   ]
  },
  {
   "cell_type": "code",
   "execution_count": 9,
   "metadata": {},
   "outputs": [
    {
     "data": {
      "text/plain": [
       "\" image_directory = './test_YOLOv8/'\\nlabel_directory = './2D_JSON/'\\n\\n# 이미지 디렉토리에서 파일 목록 가져오기\\nimage_files = os.listdir(image_directory)\\n\\nfor image_file in image_files:\\n    # 이미지 파일 이름에서 확장자 제거\\n    image_name = os.path.splitext(image_file)[0]\\n    \\n    # 텍스트 파일 경로 생성\\n    label_file_path = os.path.join(label_directory, image_name + '.txt')\\n    \\n    # 텍스트 파일이 존재하면 복사\\n    if os.path.isfile(label_file_path):\\n        shutil.copy(label_file_path, image_directory) \""
      ]
     },
     "execution_count": 9,
     "metadata": {},
     "output_type": "execute_result"
    }
   ],
   "source": [
    "''' image_directory = './test_YOLOv8/'\n",
    "label_directory = './2D_JSON/'\n",
    "\n",
    "# 이미지 디렉토리에서 파일 목록 가져오기\n",
    "image_files = os.listdir(image_directory)\n",
    "\n",
    "for image_file in image_files:\n",
    "    # 이미지 파일 이름에서 확장자 제거\n",
    "    image_name = os.path.splitext(image_file)[0]\n",
    "    \n",
    "    # 텍스트 파일 경로 생성\n",
    "    label_file_path = os.path.join(label_directory, image_name + '.txt')\n",
    "    \n",
    "    # 텍스트 파일이 존재하면 복사\n",
    "    if os.path.isfile(label_file_path):\n",
    "        shutil.copy(label_file_path, image_directory) '''"
   ]
  },
  {
   "attachments": {},
   "cell_type": "markdown",
   "metadata": {},
   "source": [
    "# YOLOv8 모델 학습(B-box 인식 모델)"
   ]
  },
  {
   "cell_type": "code",
   "execution_count": 10,
   "metadata": {},
   "outputs": [
    {
     "name": "stderr",
     "output_type": "stream",
     "text": [
      "Ultralytics YOLOv8.0.105  Python-3.7.16 torch-1.13.1+cpu CPU\n",
      "Setup complete  (32 CPUs, 127.9 GB RAM, 547.8/930.9 GB disk)\n"
     ]
    }
   ],
   "source": [
    "import ultralytics\n",
    "from ultralytics import YOLO\n",
    "\n",
    "ultralytics.checks()"
   ]
  },
  {
   "cell_type": "code",
   "execution_count": null,
   "metadata": {},
   "outputs": [],
   "source": [
    "model = YOLO('yolov8n.pt')\n",
    "\n",
    "''' model = YOLO(\"yolov8n.pt\", device='gpu') \n",
    "model.to('cuda') '''\n",
    "\n",
    "print(type(model.names), len(model.names))\n",
    "print(model.names)"
   ]
  },
  {
   "cell_type": "code",
   "execution_count": null,
   "metadata": {},
   "outputs": [],
   "source": [
    "#YOLOv8 모델은 custom.yaml 파일 학습함\n",
    "model.train(data='./Roadmark_Data.yaml', epochs=50, patience=30, batch=16, imgsz=256)"
   ]
  },
  {
   "cell_type": "code",
   "execution_count": 14,
   "metadata": {},
   "outputs": [
    {
     "name": "stdout",
     "output_type": "stream",
     "text": [
      "<class 'dict'> 53\n",
      "{0: '381', 1: '382', 2: '383', 3: '384', 4: '385', 5: '386', 6: '387', 7: '388', 8: '389', 9: '390', 10: '391', 11: '392', 12: '393', 13: '440', 14: '394', 15: '395', 16: '396', 17: '397', 18: '398', 19: '399', 20: '400', 21: '401', 22: '402', 23: '403', 24: '404', 25: '405', 26: '406', 27: '407', 28: '408', 29: '409', 30: '410', 31: '411', 32: '412', 33: '413', 34: '414', 35: '415', 36: '416', 37: '417', 38: '418', 39: '419', 40: '420', 41: '421', 42: '422', 43: '424', 44: '425', 45: '426', 46: '427', 47: '428', 48: '429', 49: '430', 50: '431', 51: '432', 52: '433'}\n"
     ]
    }
   ],
   "source": [
    "print(type(model.names), len(model.names))\n",
    "print(model.names)"
   ]
  },
  {
   "cell_type": "code",
   "execution_count": null,
   "metadata": {},
   "outputs": [],
   "source": [
    "results = model.predict(source='./test_YOLOv8/', #테스트 이미지 파일 폴더 경로\n",
    "                        save=True) #예측 결과~이미지 저장"
   ]
  },
  {
   "cell_type": "code",
   "execution_count": null,
   "metadata": {},
   "outputs": [],
   "source": []
  },
  {
   "cell_type": "code",
   "execution_count": null,
   "metadata": {},
   "outputs": [],
   "source": []
  }
 ],
 "metadata": {
  "kernelspec": {
   "display_name": "qweqwe",
   "language": "python",
   "name": "python3"
  },
  "language_info": {
   "codemirror_mode": {
    "name": "ipython",
    "version": 3
   },
   "file_extension": ".py",
   "mimetype": "text/x-python",
   "name": "python",
   "nbconvert_exporter": "python",
   "pygments_lexer": "ipython3",
   "version": "3.7.16"
  },
  "orig_nbformat": 4
 },
 "nbformat": 4,
 "nbformat_minor": 2
}
